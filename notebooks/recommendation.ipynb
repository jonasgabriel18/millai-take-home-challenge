{
 "cells": [
  {
   "cell_type": "code",
   "execution_count": 23,
   "id": "7ac2caa9",
   "metadata": {},
   "outputs": [],
   "source": [
    "import pickle\n",
    "import pandas as pd\n",
    "import shap\n",
    "import numpy as np\n",
    "\n",
    "from sklearn.model_selection import train_test_split\n",
    "from sklearn.preprocessing import StandardScaler"
   ]
  },
  {
   "cell_type": "code",
   "execution_count": 24,
   "id": "ba7a2f9d",
   "metadata": {},
   "outputs": [],
   "source": [
    "df = pd.read_csv('../data/processed/sample_feature_engineered.csv')\n",
    "other_targets = ['impressions', 'clicks', 'ctr', 'conversions', 'conversion_rate']\n",
    "df = df.drop(columns=other_targets)\n",
    "\n",
    "X = df.drop(columns=['roi'])\n",
    "y = df['roi']\n",
    "X_train, X_test, y_train, y_test = train_test_split(X, y, test_size=0.2, random_state=42)\n",
    "\n",
    "scaler = StandardScaler()\n",
    "X_train_scaled = scaler.fit_transform(X_train)\n",
    "X_test_scaled = scaler.transform(X_test)"
   ]
  },
  {
   "cell_type": "code",
   "execution_count": 25,
   "id": "3d17f761",
   "metadata": {},
   "outputs": [
    {
     "data": {
      "text/plain": [
       "Index(['duration_seconds', 'brightness_score', 'text_to_image_ratio',\n",
       "       'logo_size_ratio', 'has_human_face', 'face_count', 'sentiment_score',\n",
       "       'word_count', 'music_tempo', 'speech_pace', 'roi',\n",
       "       'color_palette_primary_R', 'color_palette_primary_G',\n",
       "       'color_palette_primary_B', 'platform_encoded', 'ad_type_encoded',\n",
       "       'industry_encoded', 'campaign_objective_encoded',\n",
       "       'target_audience_gender_encoded', 'aspect_ratio_encoded',\n",
       "       'cta_type_encoded'],\n",
       "      dtype='object')"
      ]
     },
     "execution_count": 25,
     "metadata": {},
     "output_type": "execute_result"
    }
   ],
   "source": [
    "df.columns"
   ]
  },
  {
   "cell_type": "code",
   "execution_count": 26,
   "id": "85373224",
   "metadata": {},
   "outputs": [
    {
     "data": {
      "text/plain": [
       "{'duration_seconds': {0: 0.0},\n",
       " 'brightness_score': {0: 60.0},\n",
       " 'text_to_image_ratio': {0: 0.42},\n",
       " 'logo_size_ratio': {0: 0.07},\n",
       " 'has_human_face': {0: 1.0},\n",
       " 'face_count': {0: 2.0},\n",
       " 'sentiment_score': {0: 0.68},\n",
       " 'word_count': {0: 12.0},\n",
       " 'music_tempo': {0: 0.0},\n",
       " 'speech_pace': {0: 0.0},\n",
       " 'roi': {0: 3.6},\n",
       " 'color_palette_primary_R': {0: 30.0},\n",
       " 'color_palette_primary_G': {0: 120.0},\n",
       " 'color_palette_primary_B': {0: 205.0},\n",
       " 'platform_encoded': {0: 2.0},\n",
       " 'ad_type_encoded': {0: 3.0},\n",
       " 'industry_encoded': {0: 7.0},\n",
       " 'campaign_objective_encoded': {0: 4.0},\n",
       " 'target_audience_gender_encoded': {0: 0.0},\n",
       " 'aspect_ratio_encoded': {0: 1.0},\n",
       " 'cta_type_encoded': {0: 11.0}}"
      ]
     },
     "execution_count": 26,
     "metadata": {},
     "output_type": "execute_result"
    }
   ],
   "source": [
    "indices = np.random.choice(df.index, size=(1, df.shape[1]), replace=True)\n",
    "ad_sample = pd.DataFrame(data=df.to_numpy()[indices, np.arange(len(df.columns))], \n",
    "                       columns=df.columns)\n",
    "\n",
    "ad_sample.to_dict()"
   ]
  },
  {
   "cell_type": "code",
   "execution_count": 27,
   "id": "2e799549",
   "metadata": {},
   "outputs": [],
   "source": [
    "import joblib\n",
    "\n",
    "with open (\"../models/encoders/label_encoders.pkl\", \"rb\") as f:\n",
    "    label_encoders = joblib.load(f)"
   ]
  },
  {
   "cell_type": "code",
   "execution_count": 28,
   "id": "17c17171",
   "metadata": {},
   "outputs": [
    {
     "name": "stdout",
     "output_type": "stream",
     "text": [
      "('platform', {'LinkedIn': 0, 'Meta': 1, 'TikTok': 2, 'YouTube': 3})\n",
      "('ad_type', {'Carousel': 0, 'Image': 1, 'Story': 2, 'Video': 3})\n",
      "('industry', {'Automotive': 0, 'B2B Technology': 1, 'Beauty': 2, 'Cosmetics': 3, 'E-commerce': 4, 'Education': 5, 'Electronics': 6, 'Entertainment': 7, 'Fashion': 8, 'Finance': 9, 'Fitness': 10, 'Food & Beverage': 11, 'Gaming': 12, 'Health': 13, 'Home Goods': 14, 'Jewelry': 15, 'Professional Services': 16, 'Retail': 17, 'SaaS': 18, 'Travel': 19})\n",
      "('campaign_objective', {'App Install': 0, 'Awareness': 1, 'Consideration': 2, 'Conversion': 3, 'Lead Generation': 4})\n",
      "('target_audience_gender', {'all': 0, 'female': 1})\n",
      "('aspect_ratio', {'16:9': 0, '1:1': 1, '4:3': 2, '4:5': 3, '9:16': 4})\n",
      "('cta_type', {'Book Now': 0, 'Book Test Drive': 1, 'Browse Collection': 2, 'Contact Us': 3, 'Discover More': 4, 'Download Guide': 5, 'Download Now': 6, 'Download Report': 7, 'Get Demo': 8, 'Get Guide': 9, 'Join Now': 10, 'Learn More': 11, 'Order Now': 12, 'Register Now': 13, 'Request Demo': 14, 'See Collection': 15, 'Shop Collection': 16, 'Shop Now': 17, 'Sign Up': 18, 'Subscribe': 19, 'Subscribe Now': 20, 'Watch Now': 21, 'Watch Webinar': 22})\n"
     ]
    }
   ],
   "source": [
    "for column, encoder in label_encoders.items():\n",
    "    mapping = {class_: idx for idx, class_ in enumerate(encoder.classes_)}\n",
    "    print((column, mapping))"
   ]
  },
  {
   "cell_type": "code",
   "execution_count": 29,
   "id": "70a4a4b6",
   "metadata": {},
   "outputs": [],
   "source": [
    "xgb_model = pickle.load(open('../models/trained_models/xgb_model.pkl', 'rb'))"
   ]
  },
  {
   "cell_type": "code",
   "execution_count": 30,
   "id": "d3b7bcd1",
   "metadata": {},
   "outputs": [],
   "source": [
    "ad_sample_scaled = scaler.transform(ad_sample.drop(columns=['roi']))"
   ]
  },
  {
   "cell_type": "code",
   "execution_count": 31,
   "id": "0ec36234",
   "metadata": {},
   "outputs": [
    {
     "data": {
      "text/plain": [
       "Index(['duration_seconds', 'brightness_score', 'text_to_image_ratio',\n",
       "       'logo_size_ratio', 'has_human_face', 'face_count', 'sentiment_score',\n",
       "       'word_count', 'music_tempo', 'speech_pace', 'roi',\n",
       "       'color_palette_primary_R', 'color_palette_primary_G',\n",
       "       'color_palette_primary_B', 'platform_encoded', 'ad_type_encoded',\n",
       "       'industry_encoded', 'campaign_objective_encoded',\n",
       "       'target_audience_gender_encoded', 'aspect_ratio_encoded',\n",
       "       'cta_type_encoded'],\n",
       "      dtype='object')"
      ]
     },
     "execution_count": 31,
     "metadata": {},
     "output_type": "execute_result"
    }
   ],
   "source": [
    "ad_sample.columns"
   ]
  },
  {
   "cell_type": "code",
   "execution_count": 32,
   "id": "3c2740e2",
   "metadata": {},
   "outputs": [
    {
     "data": {
      "text/plain": [
       "array([3.7682674], dtype=float32)"
      ]
     },
     "execution_count": 32,
     "metadata": {},
     "output_type": "execute_result"
    }
   ],
   "source": [
    "xgb_model.predict(ad_sample_scaled)"
   ]
  },
  {
   "cell_type": "code",
   "execution_count": 33,
   "id": "c5927c98",
   "metadata": {},
   "outputs": [],
   "source": [
    "X_train_scaled_df = pd.DataFrame(X_train_scaled, columns=X_train.columns)\n",
    "explainer = shap.Explainer(xgb_model, X_train_scaled_df)\n",
    "\n",
    "shap_values = explainer(ad_sample_scaled)"
   ]
  },
  {
   "cell_type": "code",
   "execution_count": 42,
   "id": "5fe8c4dc",
   "metadata": {},
   "outputs": [
    {
     "data": {
      "text/plain": [
       "20"
      ]
     },
     "execution_count": 42,
     "metadata": {},
     "output_type": "execute_result"
    }
   ],
   "source": [
    "len(shap_values.values[0])"
   ]
  },
  {
   "cell_type": "code",
   "execution_count": 44,
   "id": "3c13d0f4",
   "metadata": {},
   "outputs": [
    {
     "data": {
      "text/plain": [
       "20"
      ]
     },
     "execution_count": 44,
     "metadata": {},
     "output_type": "execute_result"
    }
   ],
   "source": [
    "len(X.columns)"
   ]
  },
  {
   "cell_type": "code",
   "execution_count": 35,
   "id": "0df823e4",
   "metadata": {},
   "outputs": [],
   "source": [
    "shap_df = pd.DataFrame({\n",
    "    \"feature\": X.columns,\n",
    "    \"shap_value\": shap_values.values[0],\n",
    "})\n",
    "\n",
    "worst_features = shap_df.sort_values(by=\"shap_value\").head(10)"
   ]
  },
  {
   "cell_type": "code",
   "execution_count": 36,
   "id": "e290edda",
   "metadata": {},
   "outputs": [
    {
     "data": {
      "text/html": [
       "<div>\n",
       "<style scoped>\n",
       "    .dataframe tbody tr th:only-of-type {\n",
       "        vertical-align: middle;\n",
       "    }\n",
       "\n",
       "    .dataframe tbody tr th {\n",
       "        vertical-align: top;\n",
       "    }\n",
       "\n",
       "    .dataframe thead th {\n",
       "        text-align: right;\n",
       "    }\n",
       "</style>\n",
       "<table border=\"1\" class=\"dataframe\">\n",
       "  <thead>\n",
       "    <tr style=\"text-align: right;\">\n",
       "      <th></th>\n",
       "      <th>feature</th>\n",
       "      <th>shap_value</th>\n",
       "    </tr>\n",
       "  </thead>\n",
       "  <tbody>\n",
       "    <tr>\n",
       "      <th>16</th>\n",
       "      <td>campaign_objective_encoded</td>\n",
       "      <td>0.757703</td>\n",
       "    </tr>\n",
       "    <tr>\n",
       "      <th>12</th>\n",
       "      <td>color_palette_primary_B</td>\n",
       "      <td>0.186200</td>\n",
       "    </tr>\n",
       "    <tr>\n",
       "      <th>5</th>\n",
       "      <td>face_count</td>\n",
       "      <td>0.105521</td>\n",
       "    </tr>\n",
       "    <tr>\n",
       "      <th>0</th>\n",
       "      <td>duration_seconds</td>\n",
       "      <td>0.097354</td>\n",
       "    </tr>\n",
       "    <tr>\n",
       "      <th>13</th>\n",
       "      <td>platform_encoded</td>\n",
       "      <td>0.055809</td>\n",
       "    </tr>\n",
       "  </tbody>\n",
       "</table>\n",
       "</div>"
      ],
      "text/plain": [
       "                       feature  shap_value\n",
       "16  campaign_objective_encoded    0.757703\n",
       "12     color_palette_primary_B    0.186200\n",
       "5                   face_count    0.105521\n",
       "0             duration_seconds    0.097354\n",
       "13            platform_encoded    0.055809"
      ]
     },
     "execution_count": 36,
     "metadata": {},
     "output_type": "execute_result"
    }
   ],
   "source": [
    "shap_df.sort_values(by=\"shap_value\", ascending=False).head(5)"
   ]
  },
  {
   "cell_type": "code",
   "execution_count": 37,
   "id": "03187691",
   "metadata": {},
   "outputs": [
    {
     "data": {
      "text/html": [
       "<div>\n",
       "<style scoped>\n",
       "    .dataframe tbody tr th:only-of-type {\n",
       "        vertical-align: middle;\n",
       "    }\n",
       "\n",
       "    .dataframe tbody tr th {\n",
       "        vertical-align: top;\n",
       "    }\n",
       "\n",
       "    .dataframe thead th {\n",
       "        text-align: right;\n",
       "    }\n",
       "</style>\n",
       "<table border=\"1\" class=\"dataframe\">\n",
       "  <thead>\n",
       "    <tr style=\"text-align: right;\">\n",
       "      <th></th>\n",
       "      <th>feature</th>\n",
       "      <th>shap_value</th>\n",
       "    </tr>\n",
       "  </thead>\n",
       "  <tbody>\n",
       "    <tr>\n",
       "      <th>19</th>\n",
       "      <td>cta_type_encoded</td>\n",
       "      <td>-0.242984</td>\n",
       "    </tr>\n",
       "    <tr>\n",
       "      <th>2</th>\n",
       "      <td>text_to_image_ratio</td>\n",
       "      <td>-0.235927</td>\n",
       "    </tr>\n",
       "    <tr>\n",
       "      <th>1</th>\n",
       "      <td>brightness_score</td>\n",
       "      <td>-0.121757</td>\n",
       "    </tr>\n",
       "    <tr>\n",
       "      <th>6</th>\n",
       "      <td>sentiment_score</td>\n",
       "      <td>-0.087157</td>\n",
       "    </tr>\n",
       "    <tr>\n",
       "      <th>9</th>\n",
       "      <td>speech_pace</td>\n",
       "      <td>-0.026471</td>\n",
       "    </tr>\n",
       "    <tr>\n",
       "      <th>7</th>\n",
       "      <td>word_count</td>\n",
       "      <td>-0.021558</td>\n",
       "    </tr>\n",
       "    <tr>\n",
       "      <th>10</th>\n",
       "      <td>color_palette_primary_R</td>\n",
       "      <td>-0.017185</td>\n",
       "    </tr>\n",
       "    <tr>\n",
       "      <th>8</th>\n",
       "      <td>music_tempo</td>\n",
       "      <td>-0.017149</td>\n",
       "    </tr>\n",
       "    <tr>\n",
       "      <th>14</th>\n",
       "      <td>ad_type_encoded</td>\n",
       "      <td>-0.007626</td>\n",
       "    </tr>\n",
       "    <tr>\n",
       "      <th>11</th>\n",
       "      <td>color_palette_primary_G</td>\n",
       "      <td>-0.001465</td>\n",
       "    </tr>\n",
       "  </tbody>\n",
       "</table>\n",
       "</div>"
      ],
      "text/plain": [
       "                    feature  shap_value\n",
       "19         cta_type_encoded   -0.242984\n",
       "2       text_to_image_ratio   -0.235927\n",
       "1          brightness_score   -0.121757\n",
       "6           sentiment_score   -0.087157\n",
       "9               speech_pace   -0.026471\n",
       "7                word_count   -0.021558\n",
       "10  color_palette_primary_R   -0.017185\n",
       "8               music_tempo   -0.017149\n",
       "14          ad_type_encoded   -0.007626\n",
       "11  color_palette_primary_G   -0.001465"
      ]
     },
     "execution_count": 37,
     "metadata": {},
     "output_type": "execute_result"
    }
   ],
   "source": [
    "worst_features"
   ]
  },
  {
   "cell_type": "code",
   "execution_count": 38,
   "id": "10a8bcb6",
   "metadata": {},
   "outputs": [],
   "source": [
    "ease_map = {\n",
    "    \"duration_seconds\": 1.5,\n",
    "    \"brightness_score\": 1,\n",
    "    \"text_to_image_ratio\": 1,\n",
    "    \"logo_size_ratio\": 1,\n",
    "    \"has_human_face\": 2,\n",
    "    \"face_count\": 2,\n",
    "    \"sentiment_score\": 1,\n",
    "    \"word_count\": 1,\n",
    "    \"music_tempo\": 1.5,\n",
    "    \"speech_pace\": 1.5,\n",
    "    \"color_palette_primary_R\": 1,\n",
    "    \"color_palette_primary_G\": 1,\n",
    "    \"color_palette_primary_B\": 1,\n",
    "    \"platform_encoded\": 3,\n",
    "    \"industry_encoded\": 3,\n",
    "    \"campaign_objective_encoded\": 3,\n",
    "    \"target_audience_gender_encoded\": 2,\n",
    "    \"aspect_ratio_encoded\": 1,\n",
    "    \"cta_type_encoded\": 1,\n",
    "    \"default\": 1\n",
    "}"
   ]
  },
  {
   "cell_type": "code",
   "execution_count": 39,
   "id": "2a11a03e",
   "metadata": {},
   "outputs": [],
   "source": [
    "base_roi = xgb_model.predict(ad_sample_scaled)[0]\n",
    "\n",
    "best_changes = {}\n",
    "suggestions = []\n",
    "\n",
    "for id, row in worst_features.iterrows():\n",
    "    feature = row['feature']\n",
    "    shap_value = row['shap_value']\n",
    "\n",
    "    # Caso seja uma feature categórica (label encoded)\n",
    "    if feature.replace('_encoded', '') in label_encoders:\n",
    "        encoder_label = feature.replace('_encoded', '')\n",
    "        current_feature_value = ad_sample[feature].values[0].astype(int)\n",
    "        current_label = label_encoders[encoder_label].inverse_transform([current_feature_value])[0]\n",
    "        best_roi_for_feature = base_roi\n",
    "        best_change = None\n",
    "        \n",
    "        for label in label_encoders[encoder_label].classes_:\n",
    "            if label == current_feature_value: continue\n",
    "\n",
    "            new_sample = ad_sample.copy()\n",
    "            new_sample[feature] = label_encoders[encoder_label].transform([label])[0]\n",
    "\n",
    "            new_roi = xgb_model.predict(scaler.transform(new_sample.drop(columns=['roi'])))[0]\n",
    "            delta_roi = new_roi - base_roi\n",
    "            \n",
    "            if delta_roi > 0 and (best_change is None or delta_roi > best_change[\"delta_roi\"]):\n",
    "                best_change = {\n",
    "                    \"feature\": feature,\n",
    "                    \"from\": current_label,\n",
    "                    \"to\": label,\n",
    "                    \"roi\": new_roi,\n",
    "                    \"delta_roi\": delta_roi,\n",
    "                    \"ease_score\": ease_map.get(feature, ease_map[\"default\"]),\n",
    "                }\n",
    "\n",
    "        if best_change:\n",
    "            suggestions.append(best_change)\n",
    "    \n",
    "    else:\n",
    "        current_feature_value = ad_sample[feature].values[0]\n",
    "        best_roi_for_feature = base_roi\n",
    "        best_change = None\n",
    "\n",
    "        # Gera 15 perturbações entre -30% e +30%\n",
    "        for pct in np.linspace(-0.3, 0.3, 15):\n",
    "            new_value = current_feature_value * (1 + pct)\n",
    "\n",
    "            if new_value < 0:\n",
    "                continue\n",
    "\n",
    "            new_sample = ad_sample.copy()\n",
    "            new_sample[feature] = new_value\n",
    "            new_roi = xgb_model.predict(scaler.transform(new_sample.drop(columns=['roi'])))[0]\n",
    "            delta_roi = new_roi - base_roi\n",
    "\n",
    "            if delta_roi > 0 and (best_change is None or delta_roi > best_change[\"delta_roi\"]):\n",
    "                best_change = {\n",
    "                    \"feature\": feature,\n",
    "                    \"from\": round(current_feature_value, 2),\n",
    "                    \"to\": round(new_value, 2),\n",
    "                    \"roi\": new_roi,\n",
    "                    \"delta_roi\": delta_roi,\n",
    "                    \"ease_score\": ease_map.get(feature, ease_map[\"default\"]),\n",
    "                    \"pct_change\": f\"{pct*100:.1f}%\"\n",
    "                }\n",
    "\n",
    "        if best_change:\n",
    "            suggestions.append(best_change)"
   ]
  },
  {
   "cell_type": "code",
   "execution_count": 40,
   "id": "e9ec7165",
   "metadata": {},
   "outputs": [],
   "source": [
    "suggestions_sorted = sorted(\n",
    "    suggestions,\n",
    "    key=lambda x: (-x['delta_roi'], x['ease_score'])\n",
    ")"
   ]
  },
  {
   "cell_type": "code",
   "execution_count": 41,
   "id": "95db9832",
   "metadata": {},
   "outputs": [
    {
     "data": {
      "text/plain": [
       "[{'feature': 'cta_type_encoded',\n",
       "  'from': 'Learn More',\n",
       "  'to': 'Book Now',\n",
       "  'roi': 11.208212,\n",
       "  'delta_roi': 7.4399443,\n",
       "  'ease_score': 1},\n",
       " {'feature': 'brightness_score',\n",
       "  'from': 60.0,\n",
       "  'to': 42.0,\n",
       "  'roi': 5.774897,\n",
       "  'delta_roi': 2.0066297,\n",
       "  'ease_score': 1,\n",
       "  'pct_change': '-30.0%'},\n",
       " {'feature': 'color_palette_primary_R',\n",
       "  'from': 30.0,\n",
       "  'to': 21.0,\n",
       "  'roi': 3.7938452,\n",
       "  'delta_roi': 0.025577784,\n",
       "  'ease_score': 1,\n",
       "  'pct_change': '-30.0%'},\n",
       " {'feature': 'text_to_image_ratio',\n",
       "  'from': 0.42,\n",
       "  'to': 0.38,\n",
       "  'roi': 3.7809465,\n",
       "  'delta_roi': 0.0126791,\n",
       "  'ease_score': 1,\n",
       "  'pct_change': '-8.6%'},\n",
       " {'feature': 'sentiment_score',\n",
       "  'from': 0.68,\n",
       "  'to': 0.85,\n",
       "  'roi': 3.7729557,\n",
       "  'delta_roi': 0.004688263,\n",
       "  'ease_score': 1,\n",
       "  'pct_change': '25.7%'}]"
      ]
     },
     "execution_count": 41,
     "metadata": {},
     "output_type": "execute_result"
    }
   ],
   "source": [
    "suggestions_sorted"
   ]
  }
 ],
 "metadata": {
  "kernelspec": {
   "display_name": "Python 3",
   "language": "python",
   "name": "python3"
  },
  "language_info": {
   "codemirror_mode": {
    "name": "ipython",
    "version": 3
   },
   "file_extension": ".py",
   "mimetype": "text/x-python",
   "name": "python",
   "nbconvert_exporter": "python",
   "pygments_lexer": "ipython3",
   "version": "3.12.2"
  }
 },
 "nbformat": 4,
 "nbformat_minor": 5
}
